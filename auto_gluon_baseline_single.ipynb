{
 "cells": [
  {
   "cell_type": "code",
   "execution_count": 1,
   "metadata": {},
   "outputs": [
    {
     "name": "stderr",
     "output_type": "stream",
     "text": [
      "/Users/johnny/anaconda3/envs/hacakthon/lib/python3.10/site-packages/tqdm/auto.py:21: TqdmWarning: IProgress not found. Please update jupyter and ipywidgets. See https://ipywidgets.readthedocs.io/en/stable/user_install.html\n",
      "  from .autonotebook import tqdm as notebook_tqdm\n"
     ]
    }
   ],
   "source": [
    "import pandas as pd\n",
    "from autogluon.tabular import TabularDataset, TabularPredictor\n",
    "\n",
    "# Loading the data\n",
    "X_train = pd.read_csv('data/single_turbine_data/X_train.csv')\n",
    "X_test = pd.read_csv('data/single_turbine_data/X_test.csv')\n",
    "y_train = pd.read_csv('data/single_turbine_data/y_train.csv')\n",
    "y_test = pd.read_csv('data/single_turbine_data/y_test.csv')\n",
    "\n",
    "# convert to datetime\n",
    "X_train['# Date and time'] = pd.to_datetime(X_train['# Date and time'])\n",
    "X_test['# Date and time'] = pd.to_datetime(X_test['# Date and time'])\n",
    "y_train['# Date and time'] = pd.to_datetime(y_train['# Date and time'])\n",
    "y_test['# Date and time'] = pd.to_datetime(y_test['# Date and time'])\n",
    "\n",
    "# Setting the index\n",
    "X_train.set_index('# Date and time', inplace=True)\n",
    "X_test.set_index('# Date and time', inplace=True)\n",
    "y_train.set_index('# Date and time', inplace=True)\n",
    "y_test.set_index('# Date and time', inplace=True)"
   ]
  },
  {
   "cell_type": "code",
   "execution_count": 2,
   "metadata": {},
   "outputs": [],
   "source": [
    "train_data = pd.concat([X_train, y_train], axis=1)\n",
    "test_data = pd.concat([X_test, y_test], axis=1)"
   ]
  },
  {
   "cell_type": "code",
   "execution_count": 4,
   "metadata": {},
   "outputs": [
    {
     "name": "stderr",
     "output_type": "stream",
     "text": [
      "No path specified. Models will be saved in: \"AutogluonModels/ag-20230720_172145/\"\n",
      "Warning: Training may take a very long time because `time_limit` was not specified and `train_data` is large (158731 samples, 43.17 MB).\n",
      "\tConsider setting `time_limit` to ensure training finishes within an expected duration or experiment with a small portion of `train_data` to identify an ideal `presets` and `hyperparameters` configuration.\n",
      "Beginning AutoGluon training ...\n",
      "AutoGluon will save models to \"AutogluonModels/ag-20230720_172145/\"\n",
      "AutoGluon Version:  0.8.2\n",
      "Python Version:     3.10.12\n",
      "Operating System:   Darwin\n",
      "Platform Machine:   arm64\n",
      "Platform Version:   Darwin Kernel Version 22.5.0: Thu Jun  8 22:22:23 PDT 2023; root:xnu-8796.121.3~7/RELEASE_ARM64_T6020\n",
      "Disk Space Avail:   402.45 GB / 1995.22 GB (20.2%)\n",
      "Train Data Rows:    158731\n",
      "Train Data Columns: 32\n",
      "Label Column: 1_Gear oil temperature (°C)\n",
      "Preprocessing data ...\n",
      "Using Feature Generators to preprocess the data ...\n",
      "Fitting AutoMLPipelineFeatureGenerator...\n",
      "\tAvailable Memory:                    87286.57 MB\n",
      "\tTrain Data (Original)  Memory Usage: 40.64 MB (0.0% of available memory)\n",
      "\tInferring data type of each feature based on column values. Set feature_metadata_in to manually specify special dtypes of the features.\n",
      "\tStage 1 Generators:\n",
      "\t\tFitting AsTypeFeatureGenerator...\n",
      "\tStage 2 Generators:\n",
      "\t\tFitting FillNaFeatureGenerator...\n",
      "\tStage 3 Generators:\n",
      "\t\tFitting IdentityFeatureGenerator...\n",
      "\tStage 4 Generators:\n",
      "\t\tFitting DropUniqueFeatureGenerator...\n",
      "\tStage 5 Generators:\n",
      "\t\tFitting DropDuplicatesFeatureGenerator...\n",
      "\tTypes of features in original data (raw dtype, special dtypes):\n",
      "\t\t('float', []) : 32 | ['1_Wind speed (m/s)', '1_Wind direction (°)', '1_Nacelle position (°)', '1_Power (kW)', '1_Reactive power (kvar)', ...]\n",
      "\tTypes of features in processed data (raw dtype, special dtypes):\n",
      "\t\t('float', []) : 32 | ['1_Wind speed (m/s)', '1_Wind direction (°)', '1_Nacelle position (°)', '1_Power (kW)', '1_Reactive power (kvar)', ...]\n",
      "\t0.2s = Fit runtime\n",
      "\t32 features in original data used to generate 32 features in processed data.\n",
      "\tTrain Data (Processed) Memory Usage: 40.64 MB (0.0% of available memory)\n",
      "Data preprocessing and feature engineering runtime = 0.26s ...\n",
      "AutoGluon will gauge predictive performance using evaluation metric: 'root_mean_squared_error'\n",
      "\tThis metric's sign has been flipped to adhere to being higher_is_better. The metric score can be multiplied by -1 to get the metric value.\n",
      "\tTo change this, specify the eval_metric parameter of Predictor()\n",
      "Automatically generating train/validation split with holdout_frac=0.015749916525442414, Train Rows: 156231, Val Rows: 2500\n",
      "User-specified model hyperparameters to be fit:\n",
      "{\n",
      "\t'NN_TORCH': {},\n",
      "\t'GBM': [{'extra_trees': True, 'ag_args': {'name_suffix': 'XT'}}, {}, 'GBMLarge'],\n",
      "\t'CAT': {},\n",
      "\t'XGB': {},\n",
      "\t'FASTAI': {},\n",
      "\t'RF': [{'criterion': 'gini', 'ag_args': {'name_suffix': 'Gini', 'problem_types': ['binary', 'multiclass']}}, {'criterion': 'entropy', 'ag_args': {'name_suffix': 'Entr', 'problem_types': ['binary', 'multiclass']}}, {'criterion': 'squared_error', 'ag_args': {'name_suffix': 'MSE', 'problem_types': ['regression', 'quantile']}}],\n",
      "\t'XT': [{'criterion': 'gini', 'ag_args': {'name_suffix': 'Gini', 'problem_types': ['binary', 'multiclass']}}, {'criterion': 'entropy', 'ag_args': {'name_suffix': 'Entr', 'problem_types': ['binary', 'multiclass']}}, {'criterion': 'squared_error', 'ag_args': {'name_suffix': 'MSE', 'problem_types': ['regression', 'quantile']}}],\n",
      "\t'KNN': [{'weights': 'uniform', 'ag_args': {'name_suffix': 'Unif'}}, {'weights': 'distance', 'ag_args': {'name_suffix': 'Dist'}}],\n",
      "}\n",
      "Fitting 11 L1 models ...\n",
      "Fitting model: KNeighborsUnif ...\n",
      "\t-2.2304\t = Validation score   (-root_mean_squared_error)\n",
      "\t0.43s\t = Training   runtime\n",
      "\t0.24s\t = Validation runtime\n",
      "Fitting model: KNeighborsDist ...\n",
      "\t-2.1941\t = Validation score   (-root_mean_squared_error)\n",
      "\t0.09s\t = Training   runtime\n",
      "\t0.22s\t = Validation runtime\n",
      "Fitting model: LightGBMXT ...\n"
     ]
    },
    {
     "name": "stdout",
     "output_type": "stream",
     "text": [
      "[1000]\tvalid_set's rmse: 0.528336\n",
      "[2000]\tvalid_set's rmse: 0.469985\n",
      "[3000]\tvalid_set's rmse: 0.439739\n",
      "[4000]\tvalid_set's rmse: 0.421548\n",
      "[5000]\tvalid_set's rmse: 0.409369\n",
      "[6000]\tvalid_set's rmse: 0.399773\n",
      "[7000]\tvalid_set's rmse: 0.392219\n",
      "[8000]\tvalid_set's rmse: 0.386632\n",
      "[9000]\tvalid_set's rmse: 0.381556\n",
      "[10000]\tvalid_set's rmse: 0.377236\n"
     ]
    },
    {
     "name": "stderr",
     "output_type": "stream",
     "text": [
      "\t-0.3772\t = Validation score   (-root_mean_squared_error)\n",
      "\t80.11s\t = Training   runtime\n",
      "\t0.23s\t = Validation runtime\n",
      "Fitting model: LightGBM ...\n"
     ]
    },
    {
     "name": "stdout",
     "output_type": "stream",
     "text": [
      "[1000]\tvalid_set's rmse: 0.448377\n",
      "[2000]\tvalid_set's rmse: 0.406661\n",
      "[3000]\tvalid_set's rmse: 0.38727\n",
      "[4000]\tvalid_set's rmse: 0.376859\n",
      "[5000]\tvalid_set's rmse: 0.369989\n",
      "[6000]\tvalid_set's rmse: 0.36457\n",
      "[7000]\tvalid_set's rmse: 0.360954\n",
      "[8000]\tvalid_set's rmse: 0.358068\n",
      "[9000]\tvalid_set's rmse: 0.355373\n",
      "[10000]\tvalid_set's rmse: 0.352866\n"
     ]
    },
    {
     "name": "stderr",
     "output_type": "stream",
     "text": [
      "\t-0.3529\t = Validation score   (-root_mean_squared_error)\n",
      "\t75.86s\t = Training   runtime\n",
      "\t0.22s\t = Validation runtime\n",
      "Fitting model: RandomForestMSE ...\n",
      "\t-0.5252\t = Validation score   (-root_mean_squared_error)\n",
      "\t112.01s\t = Training   runtime\n",
      "\t0.04s\t = Validation runtime\n",
      "Fitting model: CatBoost ...\n",
      "\t-0.3546\t = Validation score   (-root_mean_squared_error)\n",
      "\t68.84s\t = Training   runtime\n",
      "\t0.01s\t = Validation runtime\n",
      "Fitting model: ExtraTreesMSE ...\n",
      "\t-0.5166\t = Validation score   (-root_mean_squared_error)\n",
      "\t13.36s\t = Training   runtime\n",
      "\t0.04s\t = Validation runtime\n",
      "Fitting model: NeuralNetFastAI ...\n",
      "\t-0.4386\t = Validation score   (-root_mean_squared_error)\n",
      "\t539.8s\t = Training   runtime\n",
      "\t0.04s\t = Validation runtime\n",
      "Fitting model: XGBoost ...\n",
      "\t-0.3593\t = Validation score   (-root_mean_squared_error)\n",
      "\t55.45s\t = Training   runtime\n",
      "\t0.13s\t = Validation runtime\n",
      "Fitting model: NeuralNetTorch ...\n",
      "\t-0.761\t = Validation score   (-root_mean_squared_error)\n",
      "\t634.29s\t = Training   runtime\n",
      "\t0.04s\t = Validation runtime\n",
      "Fitting model: LightGBMLarge ...\n"
     ]
    },
    {
     "name": "stdout",
     "output_type": "stream",
     "text": [
      "[1000]\tvalid_set's rmse: 0.395744\n",
      "[2000]\tvalid_set's rmse: 0.372726\n",
      "[3000]\tvalid_set's rmse: 0.362996\n",
      "[4000]\tvalid_set's rmse: 0.357989\n",
      "[5000]\tvalid_set's rmse: 0.354709\n",
      "[6000]\tvalid_set's rmse: 0.352704\n",
      "[7000]\tvalid_set's rmse: 0.350864\n",
      "[8000]\tvalid_set's rmse: 0.349897\n",
      "[9000]\tvalid_set's rmse: 0.34908\n",
      "[10000]\tvalid_set's rmse: 0.348372\n"
     ]
    },
    {
     "name": "stderr",
     "output_type": "stream",
     "text": [
      "\t-0.3484\t = Validation score   (-root_mean_squared_error)\n",
      "\t284.33s\t = Training   runtime\n",
      "\t0.3s\t = Validation runtime\n",
      "Fitting model: WeightedEnsemble_L2 ...\n",
      "\t-0.3292\t = Validation score   (-root_mean_squared_error)\n",
      "\t0.1s\t = Training   runtime\n",
      "\t0.0s\t = Validation runtime\n",
      "AutoGluon training complete, total runtime = 1868.44s ... Best model: \"WeightedEnsemble_L2\"\n",
      "TabularPredictor saved. To load, use: predictor = TabularPredictor.load(\"AutogluonModels/ag-20230720_172145/\")\n"
     ]
    },
    {
     "data": {
      "text/plain": [
       "<autogluon.tabular.predictor.predictor.TabularPredictor at 0x10a827d00>"
      ]
     },
     "execution_count": 4,
     "metadata": {},
     "output_type": "execute_result"
    }
   ],
   "source": [
    "# Assuming 'train_data' and 'test_data' are DataFrames created from the previous response\n",
    "# Convert the data to AutoGluon's TabularDataset format\n",
    "train_data = TabularDataset(train_data)\n",
    "test_data = TabularDataset(test_data)\n",
    "\n",
    "# Define the target columns\n",
    "label = '1_Gear oil temperature (°C)'\n",
    "\n",
    "# Initialize an empty dictionary to store the predictors\n",
    "predictors = {}\n",
    "\n",
    "# Train a separate regression model for each target event type\n",
    "predictor = TabularPredictor(label=label, \n",
    "                              problem_type='regression', \n",
    "                              eval_metric='root_mean_squared_error') # regression with R^2 as the evaluation metric\n",
    "predictor.fit(train_data, \n",
    "              # excluded_model_types=['LightGBMLarge'], \n",
    "#                   time_limit=600, \n",
    "#                   num_bag_sets = 2, \n",
    "            #   hyperparameters = 'light',\n",
    "              )"
   ]
  },
  {
   "cell_type": "code",
   "execution_count": 5,
   "metadata": {},
   "outputs": [
    {
     "data": {
      "text/plain": [
       "{'root_mean_squared_error': -0.5098867962994177,\n",
       " 'mean_squared_error': -0.25998454504048385,\n",
       " 'mean_absolute_error': -0.3360565611600291,\n",
       " 'r2': 0.990692189109019,\n",
       " 'pearsonr': 0.9955256462483939,\n",
       " 'median_absolute_error': -0.23516778945925765}"
      ]
     },
     "execution_count": 5,
     "metadata": {},
     "output_type": "execute_result"
    }
   ],
   "source": [
    "predictor.evaluate(test_data, silent=True)"
   ]
  },
  {
   "cell_type": "code",
   "execution_count": null,
   "metadata": {},
   "outputs": [],
   "source": []
  }
 ],
 "metadata": {
  "kernelspec": {
   "display_name": "kaggle",
   "language": "python",
   "name": "python3"
  },
  "language_info": {
   "codemirror_mode": {
    "name": "ipython",
    "version": 3
   },
   "file_extension": ".py",
   "mimetype": "text/x-python",
   "name": "python",
   "nbconvert_exporter": "python",
   "pygments_lexer": "ipython3",
   "version": "3.10.12"
  },
  "orig_nbformat": 4
 },
 "nbformat": 4,
 "nbformat_minor": 2
}
