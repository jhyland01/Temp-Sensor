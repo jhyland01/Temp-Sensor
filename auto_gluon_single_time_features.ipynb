{
 "cells": [
  {
   "cell_type": "code",
   "execution_count": 1,
   "metadata": {},
   "outputs": [
    {
     "name": "stderr",
     "output_type": "stream",
     "text": [
      "/Users/johnny/anaconda3/envs/hacakthon/lib/python3.10/site-packages/tqdm/auto.py:21: TqdmWarning: IProgress not found. Please update jupyter and ipywidgets. See https://ipywidgets.readthedocs.io/en/stable/user_install.html\n",
      "  from .autonotebook import tqdm as notebook_tqdm\n"
     ]
    }
   ],
   "source": [
    "import pandas as pd\n",
    "from autogluon.tabular import TabularDataset, TabularPredictor\n",
    "\n",
    "# Loading the data\n",
    "X_train = pd.read_csv('data/single_turbine_data/X_train.csv')\n",
    "X_test = pd.read_csv('data/single_turbine_data/X_test.csv')\n",
    "y_train = pd.read_csv('data/single_turbine_data/y_train.csv')\n",
    "y_test = pd.read_csv('data/single_turbine_data/y_test.csv')\n",
    "\n",
    "# convert to datetime\n",
    "X_train['# Date and time'] = pd.to_datetime(X_train['# Date and time'])\n",
    "X_test['# Date and time'] = pd.to_datetime(X_test['# Date and time'])\n",
    "y_train['# Date and time'] = pd.to_datetime(y_train['# Date and time'])\n",
    "y_test['# Date and time'] = pd.to_datetime(y_test['# Date and time'])\n",
    "\n",
    "# Setting the index\n",
    "X_train.set_index('# Date and time', inplace=True)\n",
    "X_test.set_index('# Date and time', inplace=True)\n",
    "y_train.set_index('# Date and time', inplace=True)\n",
    "y_test.set_index('# Date and time', inplace=True)"
   ]
  },
  {
   "cell_type": "code",
   "execution_count": 7,
   "metadata": {},
   "outputs": [],
   "source": [
    "def create_time_features(df):\n",
    "    \"\"\"\n",
    "    Function to create time features from a date column in a dataframe.\n",
    "    \n",
    "    Parameters:\n",
    "    df (pandas.DataFrame): Dataframe containing the data\n",
    "    date_col (str): Column in the dataframe containing the date information\n",
    "    \n",
    "    Returns:\n",
    "    pandas.DataFrame: Dataframe with added time features (hour, day of week, month)\n",
    "    \"\"\"\n",
    "    df['hour'] = df.index.hour\n",
    "    df['day_of_week'] = df.index.dayofweek\n",
    "    df['month'] = df.index.month\n",
    "    \n",
    "    return df"
   ]
  },
  {
   "cell_type": "code",
   "execution_count": 8,
   "metadata": {},
   "outputs": [],
   "source": [
    "train_data = pd.concat([X_train, y_train], axis=1)\n",
    "test_data = pd.concat([X_test, y_test], axis=1)"
   ]
  },
  {
   "cell_type": "code",
   "execution_count": 9,
   "metadata": {},
   "outputs": [],
   "source": [
    "train_data = create_time_features(train_data)\n",
    "test_data = create_time_features(test_data)"
   ]
  },
  {
   "cell_type": "code",
   "execution_count": 11,
   "metadata": {},
   "outputs": [
    {
     "name": "stderr",
     "output_type": "stream",
     "text": [
      "No path specified. Models will be saved in: \"AutogluonModels/ag-20230724_154150/\"\n",
      "Warning: Training may take a very long time because `time_limit` was not specified and `train_data` is large (158731 samples, 46.98 MB).\n",
      "\tConsider setting `time_limit` to ensure training finishes within an expected duration or experiment with a small portion of `train_data` to identify an ideal `presets` and `hyperparameters` configuration.\n",
      "Beginning AutoGluon training ...\n",
      "AutoGluon will save models to \"AutogluonModels/ag-20230724_154150/\"\n",
      "AutoGluon Version:  0.8.2\n",
      "Python Version:     3.10.12\n",
      "Operating System:   Darwin\n",
      "Platform Machine:   arm64\n",
      "Platform Version:   Darwin Kernel Version 22.5.0: Thu Jun  8 22:22:23 PDT 2023; root:xnu-8796.121.3~7/RELEASE_ARM64_T6020\n",
      "Disk Space Avail:   401.00 GB / 1995.22 GB (20.1%)\n",
      "Train Data Rows:    158731\n",
      "Train Data Columns: 35\n",
      "Label Column: 1_Gear oil temperature (°C)\n",
      "Preprocessing data ...\n",
      "Using Feature Generators to preprocess the data ...\n",
      "Fitting AutoMLPipelineFeatureGenerator...\n",
      "\tAvailable Memory:                    83743.01 MB\n",
      "\tTrain Data (Original)  Memory Usage: 44.44 MB (0.1% of available memory)\n",
      "\tInferring data type of each feature based on column values. Set feature_metadata_in to manually specify special dtypes of the features.\n",
      "\tStage 1 Generators:\n",
      "\t\tFitting AsTypeFeatureGenerator...\n",
      "\tStage 2 Generators:\n",
      "\t\tFitting FillNaFeatureGenerator...\n",
      "\tStage 3 Generators:\n",
      "\t\tFitting IdentityFeatureGenerator...\n",
      "\tStage 4 Generators:\n",
      "\t\tFitting DropUniqueFeatureGenerator...\n",
      "\tStage 5 Generators:\n",
      "\t\tFitting DropDuplicatesFeatureGenerator...\n",
      "\tTypes of features in original data (raw dtype, special dtypes):\n",
      "\t\t('float', []) : 32 | ['1_Wind speed (m/s)', '1_Wind direction (°)', '1_Nacelle position (°)', '1_Power (kW)', '1_Reactive power (kvar)', ...]\n",
      "\t\t('int', [])   :  3 | ['hour', 'day_of_week', 'month']\n",
      "\tTypes of features in processed data (raw dtype, special dtypes):\n",
      "\t\t('float', []) : 32 | ['1_Wind speed (m/s)', '1_Wind direction (°)', '1_Nacelle position (°)', '1_Power (kW)', '1_Reactive power (kvar)', ...]\n",
      "\t\t('int', [])   :  3 | ['hour', 'day_of_week', 'month']\n",
      "\t0.2s = Fit runtime\n",
      "\t35 features in original data used to generate 35 features in processed data.\n",
      "\tTrain Data (Processed) Memory Usage: 44.44 MB (0.1% of available memory)\n",
      "Data preprocessing and feature engineering runtime = 0.27s ...\n",
      "AutoGluon will gauge predictive performance using evaluation metric: 'root_mean_squared_error'\n",
      "\tThis metric's sign has been flipped to adhere to being higher_is_better. The metric score can be multiplied by -1 to get the metric value.\n",
      "\tTo change this, specify the eval_metric parameter of Predictor()\n",
      "Automatically generating train/validation split with holdout_frac=0.015749916525442414, Train Rows: 156231, Val Rows: 2500\n",
      "User-specified model hyperparameters to be fit:\n",
      "{\n",
      "\t'NN_TORCH': {},\n",
      "\t'GBM': [{'extra_trees': True, 'ag_args': {'name_suffix': 'XT'}}, {}, 'GBMLarge'],\n",
      "\t'CAT': {},\n",
      "\t'XGB': {},\n",
      "\t'FASTAI': {},\n",
      "\t'RF': [{'criterion': 'gini', 'ag_args': {'name_suffix': 'Gini', 'problem_types': ['binary', 'multiclass']}}, {'criterion': 'entropy', 'ag_args': {'name_suffix': 'Entr', 'problem_types': ['binary', 'multiclass']}}, {'criterion': 'squared_error', 'ag_args': {'name_suffix': 'MSE', 'problem_types': ['regression', 'quantile']}}],\n",
      "\t'XT': [{'criterion': 'gini', 'ag_args': {'name_suffix': 'Gini', 'problem_types': ['binary', 'multiclass']}}, {'criterion': 'entropy', 'ag_args': {'name_suffix': 'Entr', 'problem_types': ['binary', 'multiclass']}}, {'criterion': 'squared_error', 'ag_args': {'name_suffix': 'MSE', 'problem_types': ['regression', 'quantile']}}],\n",
      "\t'KNN': [{'weights': 'uniform', 'ag_args': {'name_suffix': 'Unif'}}, {'weights': 'distance', 'ag_args': {'name_suffix': 'Dist'}}],\n",
      "}\n",
      "Fitting 11 L1 models ...\n",
      "Fitting model: KNeighborsUnif ...\n",
      "\t-2.2166\t = Validation score   (-root_mean_squared_error)\n",
      "\t0.53s\t = Training   runtime\n",
      "\t0.25s\t = Validation runtime\n",
      "Fitting model: KNeighborsDist ...\n",
      "\t-2.1792\t = Validation score   (-root_mean_squared_error)\n",
      "\t0.09s\t = Training   runtime\n",
      "\t0.19s\t = Validation runtime\n",
      "Fitting model: LightGBMXT ...\n"
     ]
    },
    {
     "name": "stdout",
     "output_type": "stream",
     "text": [
      "[1000]\tvalid_set's rmse: 0.506699\n",
      "[2000]\tvalid_set's rmse: 0.444599\n",
      "[3000]\tvalid_set's rmse: 0.41545\n",
      "[4000]\tvalid_set's rmse: 0.396962\n",
      "[5000]\tvalid_set's rmse: 0.382878\n",
      "[6000]\tvalid_set's rmse: 0.372811\n",
      "[7000]\tvalid_set's rmse: 0.365483\n",
      "[8000]\tvalid_set's rmse: 0.358871\n",
      "[9000]\tvalid_set's rmse: 0.353302\n",
      "[10000]\tvalid_set's rmse: 0.348996\n"
     ]
    },
    {
     "name": "stderr",
     "output_type": "stream",
     "text": [
      "\t-0.349\t = Validation score   (-root_mean_squared_error)\n",
      "\t83.04s\t = Training   runtime\n",
      "\t0.25s\t = Validation runtime\n",
      "Fitting model: LightGBM ...\n"
     ]
    },
    {
     "name": "stdout",
     "output_type": "stream",
     "text": [
      "[1000]\tvalid_set's rmse: 0.436521\n",
      "[2000]\tvalid_set's rmse: 0.391375\n",
      "[3000]\tvalid_set's rmse: 0.371212\n",
      "[4000]\tvalid_set's rmse: 0.35918\n",
      "[5000]\tvalid_set's rmse: 0.349856\n",
      "[6000]\tvalid_set's rmse: 0.343833\n",
      "[7000]\tvalid_set's rmse: 0.338951\n",
      "[8000]\tvalid_set's rmse: 0.335746\n",
      "[9000]\tvalid_set's rmse: 0.332751\n",
      "[10000]\tvalid_set's rmse: 0.330605\n"
     ]
    },
    {
     "name": "stderr",
     "output_type": "stream",
     "text": [
      "\t-0.3306\t = Validation score   (-root_mean_squared_error)\n",
      "\t78.51s\t = Training   runtime\n",
      "\t0.22s\t = Validation runtime\n",
      "Fitting model: RandomForestMSE ...\n",
      "\t-0.5243\t = Validation score   (-root_mean_squared_error)\n",
      "\t135.01s\t = Training   runtime\n",
      "\t0.04s\t = Validation runtime\n",
      "Fitting model: CatBoost ...\n",
      "\t-0.3316\t = Validation score   (-root_mean_squared_error)\n",
      "\t70.45s\t = Training   runtime\n",
      "\t0.01s\t = Validation runtime\n",
      "Fitting model: ExtraTreesMSE ...\n",
      "\t-0.5132\t = Validation score   (-root_mean_squared_error)\n",
      "\t15.55s\t = Training   runtime\n",
      "\t0.05s\t = Validation runtime\n",
      "Fitting model: NeuralNetFastAI ...\n",
      "\t-0.4335\t = Validation score   (-root_mean_squared_error)\n",
      "\t217.49s\t = Training   runtime\n",
      "\t0.04s\t = Validation runtime\n",
      "Fitting model: XGBoost ...\n",
      "\t-0.3436\t = Validation score   (-root_mean_squared_error)\n",
      "\t55.61s\t = Training   runtime\n",
      "\t0.13s\t = Validation runtime\n",
      "Fitting model: NeuralNetTorch ...\n",
      "\t-0.7183\t = Validation score   (-root_mean_squared_error)\n",
      "\t260.59s\t = Training   runtime\n",
      "\t0.04s\t = Validation runtime\n",
      "Fitting model: LightGBMLarge ...\n"
     ]
    },
    {
     "name": "stdout",
     "output_type": "stream",
     "text": [
      "[1000]\tvalid_set's rmse: 0.383054\n",
      "[2000]\tvalid_set's rmse: 0.358965\n",
      "[3000]\tvalid_set's rmse: 0.348731\n",
      "[4000]\tvalid_set's rmse: 0.34352\n",
      "[5000]\tvalid_set's rmse: 0.340326\n",
      "[6000]\tvalid_set's rmse: 0.338388\n",
      "[7000]\tvalid_set's rmse: 0.336728\n",
      "[8000]\tvalid_set's rmse: 0.335769\n",
      "[9000]\tvalid_set's rmse: 0.335047\n",
      "[10000]\tvalid_set's rmse: 0.334158\n"
     ]
    },
    {
     "name": "stderr",
     "output_type": "stream",
     "text": [
      "\t-0.3342\t = Validation score   (-root_mean_squared_error)\n",
      "\t247.78s\t = Training   runtime\n",
      "\t0.34s\t = Validation runtime\n",
      "Fitting model: WeightedEnsemble_L2 ...\n",
      "\t-0.307\t = Validation score   (-root_mean_squared_error)\n",
      "\t0.1s\t = Training   runtime\n",
      "\t0.0s\t = Validation runtime\n",
      "AutoGluon training complete, total runtime = 1168.52s ... Best model: \"WeightedEnsemble_L2\"\n",
      "TabularPredictor saved. To load, use: predictor = TabularPredictor.load(\"AutogluonModels/ag-20230724_154150/\")\n"
     ]
    },
    {
     "data": {
      "text/plain": [
       "<autogluon.tabular.predictor.predictor.TabularPredictor at 0x16ac578e0>"
      ]
     },
     "execution_count": 11,
     "metadata": {},
     "output_type": "execute_result"
    }
   ],
   "source": [
    "# Assuming 'train_data' and 'test_data' are DataFrames created from the previous response\n",
    "# Convert the data to AutoGluon's TabularDataset format\n",
    "train_data = TabularDataset(train_data)\n",
    "test_data = TabularDataset(test_data)\n",
    "\n",
    "# Define the target columns\n",
    "label = '1_Gear oil temperature (°C)'\n",
    "\n",
    "# Initialize an empty dictionary to store the predictors\n",
    "predictors = {}\n",
    "\n",
    "# Train a separate regression model for each target event type\n",
    "predictor = TabularPredictor(label=label, \n",
    "                              problem_type='regression', \n",
    "                              eval_metric='root_mean_squared_error') # regression with R^2 as the evaluation metric\n",
    "predictor.fit(train_data, \n",
    "              # excluded_model_types=['LightGBMLarge'], \n",
    "#                   time_limit=600, \n",
    "#                   num_bag_sets = 2, \n",
    "            #   hyperparameters = 'light',\n",
    "              )"
   ]
  },
  {
   "cell_type": "code",
   "execution_count": 12,
   "metadata": {},
   "outputs": [
    {
     "data": {
      "text/plain": [
       "{'root_mean_squared_error': -0.5252737585954804,\n",
       " 'mean_squared_error': -0.27591252146902306,\n",
       " 'mean_absolute_error': -0.3441628673795754,\n",
       " 'r2': 0.9901219452414469,\n",
       " 'pearsonr': 0.9952454171820333,\n",
       " 'median_absolute_error': -0.2401134490966932}"
      ]
     },
     "execution_count": 12,
     "metadata": {},
     "output_type": "execute_result"
    }
   ],
   "source": [
    "predictor.evaluate(test_data, silent=True)"
   ]
  },
  {
   "cell_type": "code",
   "execution_count": null,
   "metadata": {},
   "outputs": [],
   "source": []
  }
 ],
 "metadata": {
  "kernelspec": {
   "display_name": "kaggle",
   "language": "python",
   "name": "python3"
  },
  "language_info": {
   "codemirror_mode": {
    "name": "ipython",
    "version": 3
   },
   "file_extension": ".py",
   "mimetype": "text/x-python",
   "name": "python",
   "nbconvert_exporter": "python",
   "pygments_lexer": "ipython3",
   "version": "3.10.12"
  },
  "orig_nbformat": 4
 },
 "nbformat": 4,
 "nbformat_minor": 2
}
